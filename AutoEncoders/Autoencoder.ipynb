{
 "cells": [
  {
   "cell_type": "markdown",
   "metadata": {},
   "source": [
    "Autoencoders are great way to save and share the data efficiently rather than storing the raw version. In throey, the compressed representation holds the key information about an image and we can use it for denoising images or other kinds of recostruction and transformation!"
   ]
  },
  {
   "cell_type": "code",
   "execution_count": 5,
   "metadata": {},
   "outputs": [],
   "source": [
    "import torch\n",
    "import torchvision.transforms as transforms\n",
    "import numpy as np\n",
    "from torchvision import datasets\n",
    "\n",
    "import matplotlib.pyplot as plt\n",
    "%matplotlib inline\n",
    "\n",
    "transform = transforms.ToTensor()\n",
    "\n",
    "train_data = datasets.MNIST(root = 'data', train=True, transform = transform, download = True)\n",
    "\n",
    "test_data = datasets.MNIST(root = 'data', train=False, transform=transform, download=True)"
   ]
  },
  {
   "cell_type": "code",
   "execution_count": 20,
   "metadata": {},
   "outputs": [],
   "source": [
    "num_workers = 0\n",
    "\n",
    "batch_size = 20\n",
    "\n",
    "train_loader = torch.utils.data.DataLoader(train_data, batch_size=batch_size, num_workers=num_workers)\n",
    "test_loader = torch.utils.data.DataLoader(test_data, batch_size=batch_size, num_workers=num_workers)"
   ]
  },
  {
   "cell_type": "code",
   "execution_count": 8,
   "metadata": {},
   "outputs": [
    {
     "data": {
      "text/plain": [
       "<matplotlib.image.AxesImage at 0x204316f4320>"
      ]
     },
     "execution_count": 8,
     "metadata": {},
     "output_type": "execute_result"
    },
    {
     "data": {
      "image/png": "[encoded data removed]",
      "text/plain": [
       "<Figure size 360x360 with 1 Axes>"
      ]
     },
     "metadata": {
      "needs_background": "light"
     },
     "output_type": "display_data"
    }
   ],
   "source": [
    "dataiter = iter(train_loader)\n",
    "images, labels = dataiter.next()\n",
    "images = images.numpy()\n",
    "\n",
    "img = np.squeeze(images[1])\n",
    "\n",
    "fig = plt.figure(figsize=(5,5))\n",
    "ax = fig.add_subplot(111)\n",
    "ax.imshow(img, cmap ='gray')"
   ]
  },
  {
   "cell_type": "markdown",
   "metadata": {},
   "source": [
    "# Linear Autoencoder"
   ]
  },
  {
   "cell_type": "code",
   "execution_count": 10,
   "metadata": {},
   "outputs": [
    {
     "name": "stdout",
     "output_type": "stream",
     "text": [
      "Autoencoder(\n",
      "  (fc1): Linear(in_features=784, out_features=32, bias=True)\n",
      "  (fc2): Linear(in_features=32, out_features=784, bias=True)\n",
      ")\n"
     ]
    }
   ],
   "source": [
    "import torch.nn as nn\n",
    "import torch.nn.functional as F\n",
    "\n",
    "class Autoencoder(nn.Module):\n",
    "    def __init__(self, encoding_dim):\n",
    "        super(Autoencoder, self).__init__()\n",
    "        self.fc1 = nn.Linear(28*28, encoding_dim)\n",
    "        \n",
    "        self.fc2 = nn.Linear(encoding_dim, 28*28)\n",
    "    \n",
    "    def forward(self, x):\n",
    "        x = F.relu(self.fc1(x))\n",
    "        \n",
    "        x = F.sigmoid(self.fc2(x))\n",
    "        return x\n",
    "    \n",
    "encoding_dim = 32\n",
    "\n",
    "model  = Autoencoder(encoding_dim)\n",
    "\n",
    "print(model)"
   ]
  },
  {
   "cell_type": "code",
   "execution_count": 12,
   "metadata": {},
   "outputs": [],
   "source": [
    "#MSE is good to calculate pixel quantity rather than image probability\n",
    "criterion = nn.MSELoss()\n",
    "\n",
    "optimizer = torch.optim.Adam(model.parameters(), lr = 0.001)\n",
    "\n"
   ]
  },
  {
   "cell_type": "code",
   "execution_count": 17,
   "metadata": {},
   "outputs": [
    {
     "name": "stderr",
     "output_type": "stream",
     "text": [
      "C:\\Anaconda\\lib\\site-packages\\torch\\nn\\functional.py:1569: UserWarning: nn.functional.sigmoid is deprecated. Use torch.sigmoid instead.\n",
      "  warnings.warn(\"nn.functional.sigmoid is deprecated. Use torch.sigmoid instead.\")\n"
     ]
    },
    {
     "name": "stdout",
     "output_type": "stream",
     "text": [
      "Epoch 0 Traing Loss 0.6366521579523882\n",
      "Epoch 1 Traing Loss 0.3280134167770545\n",
      "Epoch 2 Traing Loss 0.28325189722081023\n",
      "Epoch 3 Traing Loss 0.2735842811129987\n",
      "Epoch 4 Traing Loss 0.26952178683131933\n",
      "Epoch 5 Traing Loss 0.26722083196043966\n",
      "Epoch 6 Traing Loss 0.26571680765599015\n",
      "Epoch 7 Traing Loss 0.26459476098418233\n",
      "Epoch 8 Traing Loss 0.26369315564011536\n",
      "Epoch 9 Traing Loss 0.26293627031768363\n",
      "Epoch 10 Traing Loss 0.26225787229215103\n",
      "Epoch 11 Traing Loss 0.26155150489881634\n",
      "Epoch 12 Traing Loss 0.26096333337947725\n",
      "Epoch 13 Traing Loss 0.26039588974788785\n",
      "Epoch 14 Traing Loss 0.2599343586526811\n",
      "Epoch 15 Traing Loss 0.2595155088727673\n",
      "Epoch 16 Traing Loss 0.25910592343658206\n",
      "Epoch 17 Traing Loss 0.25872693506690364\n",
      "Epoch 18 Traing Loss 0.25837957550771534\n",
      "Epoch 19 Traing Loss 0.2580527377563218\n"
     ]
    }
   ],
   "source": [
    "n_epoch = 20\n",
    "\n",
    "for i in range((n_epoch)):\n",
    "    \n",
    "    train_loss = 0.0\n",
    "    \n",
    "    for data in train_loader:\n",
    "        \n",
    "        images, labels = data\n",
    "        \n",
    "        #Flatten the image\n",
    "        images = images.view(images.size(0), -1)\n",
    "        \n",
    "        optimizer.zero_grad()\n",
    "        \n",
    "        outputs = model.forward(images)\n",
    "        \n",
    "        loss = criterion(outputs, images)\n",
    "        \n",
    "        loss.backward()\n",
    "        \n",
    "        #Paramaeter update\n",
    "        optimizer.step()\n",
    "        \n",
    "        #Update running training_loss \n",
    "        train_loss += loss.item() * images.size(0)\n",
    "    # print avg training statistics\n",
    "    train_loss = train_loss / len(train_loader)\n",
    "    print('Epoch {} Traing Loss {}'.format(i, train_loss))\n",
    "        \n",
    "        "
   ]
  },
  {
   "cell_type": "code",
   "execution_count": 25,
   "metadata": {},
   "outputs": [
    {
     "name": "stderr",
     "output_type": "stream",
     "text": [
      "C:\\Anaconda\\lib\\site-packages\\torch\\nn\\functional.py:1569: UserWarning: nn.functional.sigmoid is deprecated. Use torch.sigmoid instead.\n",
      "  warnings.warn(\"nn.functional.sigmoid is deprecated. Use torch.sigmoid instead.\")\n"
     ]
    },
    {
     "data": {
      "image/png": "[encoded data removed]",
      "text/plain": [
       "<Figure size 1800x288 with 20 Axes>"
      ]
     },
     "metadata": {
      "needs_background": "light"
     },
     "output_type": "display_data"
    }
   ],
   "source": [
    "# obtain one batch of test images\n",
    "dataiter = iter(test_loader)\n",
    "images, labels = dataiter.next()\n",
    "\n",
    "images_flatten = images.view(images.size(0), -1)\n",
    "\n",
    "#Get sample output\n",
    "output = model(images_flatten)\n",
    "\n",
    "#Pre images for display\n",
    "images = images.numpy()\n",
    "\n",
    "#Output\n",
    "output = output.view(batch_size, 1, 28, 28)\n",
    "\n",
    "output = output.detach().numpy()\n",
    "\n",
    "fig, axes = plt.subplots(nrows=2, ncols=10, sharex=True, sharey=True, figsize=(25,4))\n",
    "\n",
    "\n",
    "for images, row in zip([images, output], axes):\n",
    "    for img, ax in zip(images, row):\n",
    "        ax.imshow(np.squeeze(img), cmap = 'gray')\n",
    "        ax.get_xaxis().set_visible(False)\n",
    "        ax.get_yaxis().set_visible(False)\n",
    "\n"
   ]
  },
  {
   "cell_type": "code",
   "execution_count": null,
   "metadata": {},
   "outputs": [],
   "source": []
  }
 ],
 "metadata": {
  "kernelspec": {
   "display_name": "Python 3",
   "language": "python",
   "name": "python3"
  },
  "language_info": {
   "codemirror_mode": {
    "name": "ipython",
    "version": 3
   },
   "file_extension": ".py",
   "mimetype": "text/x-python",
   "name": "python",
   "nbconvert_exporter": "python",
   "pygments_lexer": "ipython3",
   "version": "3.7.0"
  }
 },
 "nbformat": 4,
 "nbformat_minor": 2
}
