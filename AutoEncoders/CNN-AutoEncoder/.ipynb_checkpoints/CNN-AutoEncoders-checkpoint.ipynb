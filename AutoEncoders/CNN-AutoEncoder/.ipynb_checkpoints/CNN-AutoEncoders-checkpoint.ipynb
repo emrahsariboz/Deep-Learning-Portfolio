{
 "cells": [
  {
   "cell_type": "markdown",
   "metadata": {},
   "source": [
    "![title](autoencoder_1.png)\n",
    "\n"
   ]
  },
  {
   "cell_type": "code",
   "execution_count": 3,
   "metadata": {},
   "outputs": [],
   "source": [
    "import torch\n",
    "import torchvision.transforms as transforms\n",
    "import numpy as np\n",
    "from torchvision import datasets\n",
    "\n",
    "transform = transforms.ToTensor()\n",
    "    \n",
    "\n",
    "train_data = datasets.MNIST(root = 'data', train = True, download=True, transform = transform)\n",
    "test_data = datasets.MNIST(root = 'data', train = False, download =True, transform = transform)\n",
    "\n",
    "train_loader = torch.utils.data.DataLoader(train_data, batch_size=20)\n",
    "test_loader = torch.utils.data.DataLoader(test_data, batch_size=20)\n"
   ]
  },
  {
   "cell_type": "code",
   "execution_count": 4,
   "metadata": {},
   "outputs": [
    {
     "data": {
      "text/plain": [
       "<matplotlib.image.AxesImage at 0x201529ef710>"
      ]
     },
     "execution_count": 4,
     "metadata": {},
     "output_type": "execute_result"
    },
    {
     "data": {
      "image/png": "[encoded data removed]",
      "text/plain": [
       "<Figure size 360x360 with 1 Axes>"
      ]
     },
     "metadata": {
      "needs_background": "light"
     },
     "output_type": "display_data"
    }
   ],
   "source": [
    "import matplotlib.pyplot as plt\n",
    "%matplotlib inline\n",
    "\n",
    "images, labels = next(iter(train_loader))\n",
    "\n",
    "images = images.numpy()\n",
    "\n",
    "img = np.squeeze(images[0])\n",
    "\n",
    "fig = plt.figure(figsize=(5,5))\n",
    "ax = fig.add_subplot(111)\n",
    "ax.imshow(img, cmap = 'gray')"
   ]
  },
  {
   "cell_type": "code",
   "execution_count": 21,
   "metadata": {},
   "outputs": [],
   "source": [
    "import torch.nn as nn\n",
    "import torch.nn.functional as F\n",
    "\n",
    "class ConvAutoEncoder(nn.Module):\n",
    "    def __init__(self):\n",
    "        super(ConvAutoEncoder, self).__init__()\n",
    "        #Encoder layers\n",
    "        self.fc1 = nn.Conv2d(1, 16, 3, padding=1)\n",
    "        self.fc2 = nn.Conv2d(16, 4, 3, padding=1)\n",
    "        self.pool = nn.MaxPool2d(2,2)\n",
    "        \n",
    "        #Decoder\n",
    "        self.decoder = nn.ConvTranspose2d(4, 16, 2, stride= 2)\n",
    "        self.decoder2 = nn.ConvTranspose2d(16, 1, 2, stride=2)\n",
    "    \n",
    "    def forward(self, x):\n",
    "        x = F.relu(self.fc1(x))\n",
    "        x = self.pool(x)\n",
    "        x = F.relu(self.fc2(x))\n",
    "                   \n",
    "        x = self.pool(x)\n",
    "        \n",
    "        x = F.relu(self.decoder(x))\n",
    "        \n",
    "        x = F.sigmoid(self.decoder2(x))\n",
    "        \n",
    "        return x\n",
    "        \n",
    "        "
   ]
  },
  {
   "cell_type": "code",
   "execution_count": 22,
   "metadata": {},
   "outputs": [
    {
     "name": "stdout",
     "output_type": "stream",
     "text": [
      "ConvAutoEncoder(\n",
      "  (fc1): Conv2d(1, 16, kernel_size=(3, 3), stride=(1, 1), padding=(1, 1))\n",
      "  (fc2): Conv2d(16, 4, kernel_size=(3, 3), stride=(1, 1), padding=(1, 1))\n",
      "  (pool): MaxPool2d(kernel_size=2, stride=2, padding=0, dilation=1, ceil_mode=False)\n",
      "  (decoder): ConvTranspose2d(4, 16, kernel_size=(2, 2), stride=(2, 2))\n",
      "  (decoder2): ConvTranspose2d(16, 1, kernel_size=(2, 2), stride=(2, 2))\n",
      ")\n"
     ]
    }
   ],
   "source": [
    "model = ConvAutoEncoder()\n",
    "print(model)"
   ]
  },
  {
   "cell_type": "code",
   "execution_count": 23,
   "metadata": {},
   "outputs": [
    {
     "data": {
      "text/plain": [
       "True"
      ]
     },
     "execution_count": 23,
     "metadata": {},
     "output_type": "execute_result"
    }
   ],
   "source": [
    "criterion = nn.MSELoss()\n",
    "\n",
    "optimizer = torch.optim.Adam(model.parameters(), lr = 0.0001)\n",
    "\n",
    "training_on_gpu = torch.cuda.is_available()\n",
    "\n",
    "training_on_gpu"
   ]
  },
  {
   "cell_type": "code",
   "execution_count": 34,
   "metadata": {
    "scrolled": true
   },
   "outputs": [
    {
     "name": "stderr",
     "output_type": "stream",
     "text": [
      "C:\\Anaconda\\lib\\site-packages\\torch\\nn\\functional.py:1569: UserWarning: nn.functional.sigmoid is deprecated. Use torch.sigmoid instead.\n",
      "  warnings.warn(\"nn.functional.sigmoid is deprecated. Use torch.sigmoid instead.\")\n"
     ]
    },
    {
     "name": "stdout",
     "output_type": "stream",
     "text": [
      "Epoch 1 --> Loss 1.7179937377572059\n",
      "Epoch 2 --> Loss 0.3760549253597856\n",
      "Epoch 3 --> Loss 0.32891619761784874\n",
      "Epoch 4 --> Loss 0.3106422948402663\n",
      "Epoch 5 --> Loss 0.29981589861835045\n",
      "Epoch 6 --> Loss 0.29253162202114863\n",
      "Epoch 7 --> Loss 0.28718170429890355\n",
      "Epoch 8 --> Loss 0.2830506022150318\n",
      "Epoch 9 --> Loss 0.2796933760183553\n",
      "Epoch 10 --> Loss 0.27684932939708234\n",
      "Epoch 11 --> Loss 0.27436820935457945\n",
      "Epoch 12 --> Loss 0.272197253163904\n",
      "Epoch 13 --> Loss 0.27027088900407154\n",
      "Epoch 14 --> Loss 0.26853572400286796\n",
      "Epoch 15 --> Loss 0.2669381021956603\n",
      "Epoch 16 --> Loss 0.2653778346379598\n",
      "Epoch 17 --> Loss 0.26381295764818785\n",
      "Epoch 18 --> Loss 0.2623920152274271\n",
      "Epoch 19 --> Loss 0.2610850052783887\n",
      "Epoch 20 --> Loss 0.2598557186623414\n"
     ]
    }
   ],
   "source": [
    "epoch = 20\n",
    "\n",
    "for epoch in range(1, epoch+1):\n",
    "    train_loss = 0.0\n",
    "    \n",
    "    for data in train_loader:\n",
    "        \n",
    "        images, labels = data\n",
    "        \n",
    "        optimizer.zero_grad()\n",
    "        \n",
    "        output = model(images)\n",
    "        \n",
    "        loss = criterion(output, images)\n",
    "        \n",
    "        loss.backward()\n",
    "        \n",
    "        optimizer.step()\n",
    "        \n",
    "        train_loss += loss.item() * images.size(0)\n",
    "    \n",
    "    train_loss = train_loss / len(train_loader)\n",
    "    \n",
    "    print('Epoch {} --> Loss {}'.format(epoch, train_loss))\n",
    "        \n",
    "    "
   ]
  },
  {
   "cell_type": "code",
   "execution_count": 35,
   "metadata": {},
   "outputs": [
    {
     "name": "stderr",
     "output_type": "stream",
     "text": [
      "C:\\Anaconda\\lib\\site-packages\\torch\\nn\\functional.py:1569: UserWarning: nn.functional.sigmoid is deprecated. Use torch.sigmoid instead.\n",
      "  warnings.warn(\"nn.functional.sigmoid is deprecated. Use torch.sigmoid instead.\")\n"
     ]
    },
    {
     "data": {
      "image/png": "[encoded data removed]",
      "text/plain": [
       "<Figure size 1800x288 with 20 Axes>"
      ]
     },
     "metadata": {
      "needs_background": "light"
     },
     "output_type": "display_data"
    }
   ],
   "source": [
    "dataiter = iter(test_loader)\n",
    "\n",
    "images, labels = dataiter.next()\n",
    "\n",
    "output = model(images)\n",
    "\n",
    "\n",
    "images= images.numpy()\n",
    "\n",
    "output = output.view(20, 1, 28, 28)\n",
    "output = output.detach().numpy()\n",
    "\n",
    "fig, axes = plt.subplots(nrows=2, ncols=10, sharex =True, sharey = True, figsize= (25,4))\n",
    "\n",
    "\n",
    "for images, row in zip([images, output], axes):\n",
    "    for img, ax in zip(images, row):\n",
    "        ax.imshow(np.squeeze(img), cmap = 'gray')\n",
    "        ax.get_xaxis().set_visible(False)\n",
    "        ax.get_yaxis().set_visible(False)"
   ]
  },
  {
   "cell_type": "code",
   "execution_count": null,
   "metadata": {},
   "outputs": [],
   "source": []
  }
 ],
 "metadata": {
  "kernelspec": {
   "display_name": "Python 3",
   "language": "python",
   "name": "python3"
  },
  "language_info": {
   "codemirror_mode": {
    "name": "ipython",
    "version": 3
   },
   "file_extension": ".py",
   "mimetype": "text/x-python",
   "name": "python",
   "nbconvert_exporter": "python",
   "pygments_lexer": "ipython3",
   "version": "3.7.0"
  }
 },
 "nbformat": 4,
 "nbformat_minor": 2
}
