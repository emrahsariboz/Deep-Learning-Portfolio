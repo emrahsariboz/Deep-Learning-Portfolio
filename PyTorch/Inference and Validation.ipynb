{
 "cells": [
  {
   "cell_type": "markdown",
   "metadata": {},
   "source": [
    "# Inference and Validation"
   ]
  },
  {
   "cell_type": "markdown",
   "metadata": {},
   "source": [
    "We can use the trained network to make a prediction which is typically called **inference**. However, neural network have a tendency to perform well on training data and not generalize on unseen data. This problem is known as **overfitting**. To test the neural network for overfiting, we measure the performance on data not in the training set called the **validation** set"
   ]
  },
  {
   "cell_type": "code",
   "execution_count": 5,
   "metadata": {},
   "outputs": [],
   "source": [
    "import torch\n",
    "from torchvision import datasets, transforms\n",
    "\n",
    "\n",
    "transform = transforms.Compose([transforms.ToTensor(),\n",
    "                                transforms.Normalize((0.5,), (0.5,))])\n",
    "# Download and load the training data\n",
    "trainset = datasets.FashionMNIST('~/.pytorch/F_MNIST_data/', download=True, train=True, transform=transform)\n",
    "trainloader = torch.utils.data.DataLoader(trainset, batch_size=64, shuffle=True)\n",
    "\n",
    "\n",
    "# Download and load the test data\n",
    "testset = datasets.FashionMNIST('~/.pytorch/F_MNIST_data/', download=True, train=False, transform=transform)\n",
    "testloader = torch.utils.data.DataLoader(testset, batch_size=64, shuffle=True)\n"
   ]
  },
  {
   "cell_type": "code",
   "execution_count": 6,
   "metadata": {},
   "outputs": [],
   "source": [
    "from torch import nn, optim\n",
    "import torch.nn.functional as F\n",
    "\n",
    "class Classifier(nn.Module):\n",
    "    def __init__(self):\n",
    "        super().__init__()\n",
    "        \n",
    "        self.fc1 = nn.Linear(784, 256)\n",
    "        self.fc2 = nn.Linear(256, 128)\n",
    "        self.fc3 = nn.Linear(128, 64)\n",
    "        self.fc4 = nn.Linear(64, 10)\n",
    "        \n",
    "    def forward(self, x):\n",
    "        \n",
    "        x = x.view(x.shape[0], -1)\n",
    "        \n",
    "        x = F.relu(self.fc1(x))\n",
    "        x = F.relu(self.fc2(x))\n",
    "        x = F.relu(self.fc3(x))\n",
    "        x = F.log_softmax(self.fc4(x))\n",
    "    \n",
    "        return x\n",
    "        \n",
    "        \n"
   ]
  },
  {
   "cell_type": "code",
   "execution_count": 13,
   "metadata": {},
   "outputs": [
    {
     "name": "stderr",
     "output_type": "stream",
     "text": [
      "C:\\Anaconda\\lib\\site-packages\\ipykernel_launcher.py:20: UserWarning: Implicit dimension choice for log_softmax has been deprecated. Change the call to include dim=X as an argument.\n"
     ]
    },
    {
     "name": "stdout",
     "output_type": "stream",
     "text": [
      "tensor([[0.1108, 0.0989, 0.0935, 0.1056, 0.1062, 0.1046, 0.1082, 0.0875, 0.0965,\n",
      "         0.0882],\n",
      "        [0.1068, 0.1030, 0.0907, 0.1091, 0.1082, 0.1066, 0.1062, 0.0873, 0.0947,\n",
      "         0.0873],\n",
      "        [0.1135, 0.1025, 0.0925, 0.1030, 0.1062, 0.1027, 0.1089, 0.0864, 0.0974,\n",
      "         0.0869]], grad_fn=<SliceBackward>)\n",
      "tensor([[0],\n",
      "        [3],\n",
      "        [0]])\n",
      "tensor([[0.1108],\n",
      "        [0.1091],\n",
      "        [0.1135]], grad_fn=<SliceBackward>)\n"
     ]
    }
   ],
   "source": [
    "model = Classifier()\n",
    "\n",
    "images, label = next(iter(trainloader))\n",
    "\n",
    "ps = torch.exp(model(images))\n",
    "\n",
    "print(ps[0:3])\n",
    "\n",
    "#TopK returns the index of largest k element. When we pass 1, it will return one index which is the highest element of Tensor.\n",
    "top_probabilities, top_class = ps.topk(1, dim = 1)\n",
    "\n",
    "print(top_class[0:3])\n",
    "print(top_probabilities[0:3])"
   ]
  },
  {
   "cell_type": "markdown",
   "metadata": {},
   "source": [
    "Now we check if the predicted classes match the labels. This is as simple as equating the top_class and labels but we need to be careful with shapes. Top class is 2D tensor with (64, 1) while labels is 1D with shape (64). TO get the equatiy work, we need them to have same shape which can be done with the following trick.\n",
    "\n",
    "**equals = top_class == label.view(*top_class.shape)**\n"
   ]
  },
  {
   "cell_type": "code",
   "execution_count": 14,
   "metadata": {},
   "outputs": [
    {
     "data": {
      "text/plain": [
       "torch.Size([64])"
      ]
     },
     "execution_count": 14,
     "metadata": {},
     "output_type": "execute_result"
    }
   ],
   "source": [
    "label.shape"
   ]
  },
  {
   "cell_type": "code",
   "execution_count": 15,
   "metadata": {},
   "outputs": [],
   "source": [
    "equals = top_class == label.view(top_class.shape)"
   ]
  },
  {
   "cell_type": "code",
   "execution_count": 16,
   "metadata": {},
   "outputs": [
    {
     "data": {
      "text/plain": [
       "tensor([[0.],\n",
       "        [0.],\n",
       "        [1.],\n",
       "        [1.],\n",
       "        [0.],\n",
       "        [0.],\n",
       "        [0.],\n",
       "        [0.],\n",
       "        [0.],\n",
       "        [0.],\n",
       "        [0.],\n",
       "        [0.],\n",
       "        [0.],\n",
       "        [1.],\n",
       "        [1.],\n",
       "        [0.],\n",
       "        [0.],\n",
       "        [0.],\n",
       "        [0.],\n",
       "        [0.],\n",
       "        [0.],\n",
       "        [0.],\n",
       "        [0.],\n",
       "        [0.],\n",
       "        [0.],\n",
       "        [0.],\n",
       "        [0.],\n",
       "        [0.],\n",
       "        [0.],\n",
       "        [0.],\n",
       "        [0.],\n",
       "        [0.],\n",
       "        [0.],\n",
       "        [0.],\n",
       "        [0.],\n",
       "        [0.],\n",
       "        [0.],\n",
       "        [0.],\n",
       "        [0.],\n",
       "        [0.],\n",
       "        [0.],\n",
       "        [0.],\n",
       "        [0.],\n",
       "        [0.],\n",
       "        [0.],\n",
       "        [0.],\n",
       "        [0.],\n",
       "        [0.],\n",
       "        [0.],\n",
       "        [1.],\n",
       "        [0.],\n",
       "        [1.],\n",
       "        [0.],\n",
       "        [1.],\n",
       "        [0.],\n",
       "        [0.],\n",
       "        [0.],\n",
       "        [0.],\n",
       "        [0.],\n",
       "        [0.],\n",
       "        [0.],\n",
       "        [0.],\n",
       "        [0.],\n",
       "        [0.]])"
      ]
     },
     "execution_count": 16,
     "metadata": {},
     "output_type": "execute_result"
    }
   ],
   "source": [
    "equals.type(torch.FloatTensor)"
   ]
  },
  {
   "cell_type": "markdown",
   "metadata": {},
   "source": [
    "Now, we can use the above tensor to calculate accuracy just by taking the mean. "
   ]
  },
  {
   "cell_type": "code",
   "execution_count": 17,
   "metadata": {},
   "outputs": [
    {
     "name": "stdout",
     "output_type": "stream",
     "text": [
      "Accuracy is 10.9375 %\n"
     ]
    }
   ],
   "source": [
    "accuracy = torch.mean(equals.type(torch.FloatTensor))\n",
    "print('Accuracy is', accuracy.item()*100, '%')"
   ]
  },
  {
   "cell_type": "code",
   "execution_count": 31,
   "metadata": {},
   "outputs": [
    {
     "name": "stderr",
     "output_type": "stream",
     "text": [
      "C:\\Anaconda\\lib\\site-packages\\ipykernel_launcher.py:20: UserWarning: Implicit dimension choice for log_softmax has been deprecated. Change the call to include dim=X as an argument.\n"
     ]
    },
    {
     "name": "stdout",
     "output_type": "stream",
     "text": [
      "Epoch: 1/100.. Training loss: 0.513...  Test Loss: 74.401..  Test Accuracy: 0.829\n",
      "Epoch: 2/100.. Training loss: 0.389...  Test Loss: 61.700..  Test Accuracy: 0.855\n",
      "Epoch: 3/100.. Training loss: 0.353...  Test Loss: 63.337..  Test Accuracy: 0.854\n",
      "Epoch: 4/100.. Training loss: 0.329...  Test Loss: 60.231..  Test Accuracy: 0.867\n",
      "Epoch: 5/100.. Training loss: 0.309...  Test Loss: 59.941..  Test Accuracy: 0.864\n",
      "Epoch: 6/100.. Training loss: 0.303...  Test Loss: 61.442..  Test Accuracy: 0.865\n",
      "Epoch: 7/100.. Training loss: 0.291...  Test Loss: 61.195..  Test Accuracy: 0.866\n",
      "Epoch: 8/100.. Training loss: 0.282...  Test Loss: 56.947..  Test Accuracy: 0.878\n",
      "Epoch: 9/100.. Training loss: 0.272...  Test Loss: 59.074..  Test Accuracy: 0.872\n",
      "Epoch: 10/100.. Training loss: 0.264...  Test Loss: 57.733..  Test Accuracy: 0.876\n",
      "Epoch: 11/100.. Training loss: 0.257...  Test Loss: 57.605..  Test Accuracy: 0.876\n",
      "Epoch: 12/100.. Training loss: 0.249...  Test Loss: 56.862..  Test Accuracy: 0.877\n",
      "Epoch: 13/100.. Training loss: 0.247...  Test Loss: 55.569..  Test Accuracy: 0.874\n",
      "Epoch: 14/100.. Training loss: 0.238...  Test Loss: 59.633..  Test Accuracy: 0.879\n",
      "Epoch: 15/100.. Training loss: 0.233...  Test Loss: 58.239..  Test Accuracy: 0.878\n",
      "Epoch: 16/100.. Training loss: 0.230...  Test Loss: 62.433..  Test Accuracy: 0.879\n",
      "Epoch: 17/100.. Training loss: 0.227...  Test Loss: 59.816..  Test Accuracy: 0.879\n",
      "Epoch: 18/100.. Training loss: 0.224...  Test Loss: 59.397..  Test Accuracy: 0.883\n",
      "Epoch: 19/100.. Training loss: 0.223...  Test Loss: 64.355..  Test Accuracy: 0.879\n",
      "Epoch: 20/100.. Training loss: 0.210...  Test Loss: 63.372..  Test Accuracy: 0.883\n",
      "Epoch: 21/100.. Training loss: 0.212...  Test Loss: 60.220..  Test Accuracy: 0.885\n",
      "Epoch: 22/100.. Training loss: 0.207...  Test Loss: 65.722..  Test Accuracy: 0.877\n",
      "Epoch: 23/100.. Training loss: 0.203...  Test Loss: 63.129..  Test Accuracy: 0.883\n",
      "Epoch: 24/100.. Training loss: 0.199...  Test Loss: 58.064..  Test Accuracy: 0.889\n",
      "Epoch: 25/100.. Training loss: 0.193...  Test Loss: 65.202..  Test Accuracy: 0.880\n",
      "Epoch: 26/100.. Training loss: 0.199...  Test Loss: 69.048..  Test Accuracy: 0.872\n",
      "Epoch: 27/100.. Training loss: 0.190...  Test Loss: 64.158..  Test Accuracy: 0.887\n",
      "Epoch: 28/100.. Training loss: 0.191...  Test Loss: 63.487..  Test Accuracy: 0.888\n",
      "Epoch: 29/100.. Training loss: 0.185...  Test Loss: 68.753..  Test Accuracy: 0.884\n",
      "Epoch: 30/100.. Training loss: 0.185...  Test Loss: 72.448..  Test Accuracy: 0.878\n",
      "Epoch: 31/100.. Training loss: 0.185...  Test Loss: 68.126..  Test Accuracy: 0.886\n",
      "Epoch: 32/100.. Training loss: 0.178...  Test Loss: 74.698..  Test Accuracy: 0.880\n",
      "Epoch: 33/100.. Training loss: 0.183...  Test Loss: 66.580..  Test Accuracy: 0.887\n",
      "Epoch: 34/100.. Training loss: 0.173...  Test Loss: 68.474..  Test Accuracy: 0.885\n",
      "Epoch: 35/100.. Training loss: 0.176...  Test Loss: 71.431..  Test Accuracy: 0.879\n",
      "Epoch: 36/100.. Training loss: 0.169...  Test Loss: 67.725..  Test Accuracy: 0.887\n",
      "Epoch: 37/100.. Training loss: 0.169...  Test Loss: 74.099..  Test Accuracy: 0.883\n",
      "Epoch: 38/100.. Training loss: 0.166...  Test Loss: 76.260..  Test Accuracy: 0.883\n",
      "Epoch: 39/100.. Training loss: 0.167...  Test Loss: 74.516..  Test Accuracy: 0.880\n",
      "Epoch: 40/100.. Training loss: 0.179...  Test Loss: 72.101..  Test Accuracy: 0.886\n",
      "Epoch: 41/100.. Training loss: 0.157...  Test Loss: 78.557..  Test Accuracy: 0.887\n",
      "Epoch: 42/100.. Training loss: 0.154...  Test Loss: 76.031..  Test Accuracy: 0.888\n",
      "Epoch: 43/100.. Training loss: 0.155...  Test Loss: 77.640..  Test Accuracy: 0.888\n",
      "Epoch: 44/100.. Training loss: 0.153...  Test Loss: 74.773..  Test Accuracy: 0.888\n",
      "Epoch: 45/100.. Training loss: 0.165...  Test Loss: 76.687..  Test Accuracy: 0.887\n",
      "Epoch: 46/100.. Training loss: 0.146...  Test Loss: 84.186..  Test Accuracy: 0.877\n",
      "Epoch: 47/100.. Training loss: 0.150...  Test Loss: 80.241..  Test Accuracy: 0.889\n",
      "Epoch: 48/100.. Training loss: 0.160...  Test Loss: 71.912..  Test Accuracy: 0.886\n",
      "Epoch: 49/100.. Training loss: 0.146...  Test Loss: 87.134..  Test Accuracy: 0.880\n",
      "Epoch: 50/100.. Training loss: 0.146...  Test Loss: 77.260..  Test Accuracy: 0.887\n",
      "Epoch: 51/100.. Training loss: 0.146...  Test Loss: 81.242..  Test Accuracy: 0.881\n",
      "Epoch: 52/100.. Training loss: 0.149...  Test Loss: 80.986..  Test Accuracy: 0.881\n",
      "Epoch: 53/100.. Training loss: 0.140...  Test Loss: 83.561..  Test Accuracy: 0.882\n",
      "Epoch: 54/100.. Training loss: 0.142...  Test Loss: 94.085..  Test Accuracy: 0.882\n",
      "Epoch: 55/100.. Training loss: 0.137...  Test Loss: 90.952..  Test Accuracy: 0.884\n",
      "Epoch: 56/100.. Training loss: 0.138...  Test Loss: 82.618..  Test Accuracy: 0.887\n",
      "Epoch: 57/100.. Training loss: 0.138...  Test Loss: 79.803..  Test Accuracy: 0.887\n",
      "Epoch: 58/100.. Training loss: 0.130...  Test Loss: 83.238..  Test Accuracy: 0.883\n",
      "Epoch: 59/100.. Training loss: 0.139...  Test Loss: 82.658..  Test Accuracy: 0.884\n",
      "Epoch: 60/100.. Training loss: 0.130...  Test Loss: 99.633..  Test Accuracy: 0.880\n",
      "Epoch: 61/100.. Training loss: 0.134...  Test Loss: 86.389..  Test Accuracy: 0.889\n",
      "Epoch: 62/100.. Training loss: 0.137...  Test Loss: 86.400..  Test Accuracy: 0.885\n",
      "Epoch: 63/100.. Training loss: 0.125...  Test Loss: 91.425..  Test Accuracy: 0.884\n",
      "Epoch: 64/100.. Training loss: 0.126...  Test Loss: 84.787..  Test Accuracy: 0.883\n",
      "Epoch: 65/100.. Training loss: 0.137...  Test Loss: 91.276..  Test Accuracy: 0.893\n",
      "Epoch: 66/100.. Training loss: 0.128...  Test Loss: 95.826..  Test Accuracy: 0.887\n",
      "Epoch: 67/100.. Training loss: 0.130...  Test Loss: 97.650..  Test Accuracy: 0.886\n",
      "Epoch: 68/100.. Training loss: 0.124...  Test Loss: 99.770..  Test Accuracy: 0.887\n",
      "Epoch: 69/100.. Training loss: 0.119...  Test Loss: 91.552..  Test Accuracy: 0.885\n",
      "Epoch: 70/100.. Training loss: 0.114...  Test Loss: 99.001..  Test Accuracy: 0.885\n",
      "Epoch: 71/100.. Training loss: 0.137...  Test Loss: 90.486..  Test Accuracy: 0.889\n",
      "Epoch: 72/100.. Training loss: 0.127...  Test Loss: 86.805..  Test Accuracy: 0.877\n",
      "Epoch: 73/100.. Training loss: 0.117...  Test Loss: 96.636..  Test Accuracy: 0.889\n",
      "Epoch: 74/100.. Training loss: 0.130...  Test Loss: 95.192..  Test Accuracy: 0.888\n",
      "Epoch: 75/100.. Training loss: 0.121...  Test Loss: 86.504..  Test Accuracy: 0.886\n",
      "Epoch: 76/100.. Training loss: 0.118...  Test Loss: 98.544..  Test Accuracy: 0.883\n",
      "Epoch: 77/100.. Training loss: 0.114...  Test Loss: 101.605..  Test Accuracy: 0.883\n",
      "Epoch: 78/100.. Training loss: 0.126...  Test Loss: 95.471..  Test Accuracy: 0.888\n",
      "Epoch: 79/100.. Training loss: 0.103...  Test Loss: 109.774..  Test Accuracy: 0.884\n",
      "Epoch: 80/100.. Training loss: 0.114...  Test Loss: 96.759..  Test Accuracy: 0.888\n",
      "Epoch: 81/100.. Training loss: 0.113...  Test Loss: 100.231..  Test Accuracy: 0.887\n",
      "Epoch: 82/100.. Training loss: 0.115...  Test Loss: 104.738..  Test Accuracy: 0.882\n",
      "Epoch: 83/100.. Training loss: 0.113...  Test Loss: 110.502..  Test Accuracy: 0.883\n",
      "Epoch: 84/100.. Training loss: 0.121...  Test Loss: 117.345..  Test Accuracy: 0.886\n",
      "Epoch: 85/100.. Training loss: 0.117...  Test Loss: 105.619..  Test Accuracy: 0.889\n",
      "Epoch: 86/100.. Training loss: 0.108...  Test Loss: 123.047..  Test Accuracy: 0.881\n",
      "Epoch: 87/100.. Training loss: 0.110...  Test Loss: 108.751..  Test Accuracy: 0.886\n",
      "Epoch: 88/100.. Training loss: 0.126...  Test Loss: 96.491..  Test Accuracy: 0.883\n",
      "Epoch: 89/100.. Training loss: 0.126...  Test Loss: 104.488..  Test Accuracy: 0.886\n",
      "Epoch: 90/100.. Training loss: 0.110...  Test Loss: 110.134..  Test Accuracy: 0.877\n",
      "Epoch: 91/100.. Training loss: 0.123...  Test Loss: 99.268..  Test Accuracy: 0.884\n",
      "Epoch: 92/100.. Training loss: 0.103...  Test Loss: 113.927..  Test Accuracy: 0.878\n",
      "Epoch: 93/100.. Training loss: 0.104...  Test Loss: 113.995..  Test Accuracy: 0.889\n",
      "Epoch: 94/100.. Training loss: 0.114...  Test Loss: 111.503..  Test Accuracy: 0.887\n",
      "Epoch: 95/100.. Training loss: 0.116...  Test Loss: 110.373..  Test Accuracy: 0.887\n",
      "Epoch: 96/100.. Training loss: 0.109...  Test Loss: 121.198..  Test Accuracy: 0.887\n",
      "Epoch: 97/100.. Training loss: 0.127...  Test Loss: 124.581..  Test Accuracy: 0.883\n",
      "Epoch: 98/100.. Training loss: 0.101...  Test Loss: 119.235..  Test Accuracy: 0.883\n",
      "Epoch: 99/100.. Training loss: 0.121...  Test Loss: 104.995..  Test Accuracy: 0.888\n",
      "Epoch: 100/100.. Training loss: 0.094...  Test Loss: 122.745..  Test Accuracy: 0.881\n"
     ]
    }
   ],
   "source": [
    "model = Classifier()\n",
    "criterion = nn.NLLLoss()\n",
    "optimizer = optim.Adam(model.parameters(), lr = 0.003)\n",
    "epoch = 100\n",
    "steps = 0\n",
    "\n",
    "train_losses, test_losses = [], []\n",
    "\n",
    "for e in range(epoch):\n",
    "    running_loss = 0    \n",
    "    for images, label in trainloader:\n",
    "        \n",
    "        optimizer.zero_grad()\n",
    "        \n",
    "        log_ps = model(images)\n",
    "        loss = criterion(log_ps, label)\n",
    "        loss.backward()\n",
    "        optimizer.step()\n",
    "        \n",
    "        running_loss += loss.item()\n",
    "    else:\n",
    "        test_loss = 0\n",
    "        accuracy = 0\n",
    "        \n",
    "        with torch.no_grad():\n",
    "            for images, labels in testloader:\n",
    "                log_ps = model(images)\n",
    "                \n",
    "                test_loss += criterion(log_ps, labels)\n",
    "                \n",
    "                ps = torch.exp(log_ps)\n",
    "                \n",
    "                top_p, top_class = ps.topk(1, dim= 1)\n",
    "                \n",
    "                equals = top_class == labels.view(*top_class.shape)\n",
    "                accuracy += torch.mean(equals.type(torch.FloatTensor))\n",
    "        train_losses.append(running_loss / len(trainloader))\n",
    "        test_losses.append(test_loss/len(testloader))\n",
    "        \n",
    "        print(\"Epoch: {}/{}..\".format(e+1, epoch),\n",
    "              \"Training loss: {:.3f}... \".format(running_loss / len(trainloader)),\n",
    "               \"Test Loss: {:.3f}.. \".format(test_loss, len(testloader)),\n",
    "               \"Test Accuracy: {:.3f}\".format(accuracy/len(testloader)))\n",
    "    "
   ]
  },
  {
   "cell_type": "code",
   "execution_count": 32,
   "metadata": {},
   "outputs": [
    {
     "data": {
      "text/plain": [
       "<matplotlib.legend.Legend at 0x2ed59b69cc0>"
      ]
     },
     "execution_count": 32,
     "metadata": {},
     "output_type": "execute_result"
    },
    {
     "data": {
      "image/png": "[encoded data removed]",
      "text/plain": [
       "<Figure size 432x288 with 1 Axes>"
      ]
     },
     "metadata": {
      "image/png": {
       "height": 250,
       "width": 373
      },
      "needs_background": "light"
     },
     "output_type": "display_data"
    }
   ],
   "source": [
    "%matplotlib inline\n",
    "%config InlineBackend.figure_format = 'retina'\n",
    "\n",
    "import matplotlib.pyplot as plt\n",
    "\n",
    "plt.plot(train_losses, label = \"Training loss\")\n",
    "plt.plot(test_losses, label = \"Validation loss\")\n",
    "plt.legend(frameon=False)"
   ]
  },
  {
   "cell_type": "markdown",
   "metadata": {},
   "source": [
    "From the above figure, we can see that Network learns training data and can't generalize on test data. One solution is to use dropout which means randomly dropping out input units between the layers. This forcec network to share information between the weights"
   ]
  },
  {
   "cell_type": "markdown",
   "metadata": {},
   "source": [
    "# Dropout"
   ]
  },
  {
   "cell_type": "code",
   "execution_count": 20,
   "metadata": {},
   "outputs": [],
   "source": [
    "class Classifier(nn.Module):\n",
    "    def __init__(self):\n",
    "        super().__init__()\n",
    "        self.fc1 = nn.Linear(784, 256)\n",
    "        self.fc2 = nn.Linear(256, 128)\n",
    "        self.fc3 = nn.Linear(128, 64)\n",
    "        self.fc4 = nn.Linear(64, 10)\n",
    "        \n",
    "        self.dropout = nn.Dropout(p = 0.2)\n",
    "        \n",
    "    def forward(self, x):\n",
    "        #FLattened input tensor \n",
    "        x = x.view(x.shape[0], -1)\n",
    "        \n",
    "        x = self.dropout(F.relu(self.fc1(x)))\n",
    "        x = self.dropout(F.relu(self.fc2(x)))\n",
    "        x = self.dropout(F.relu(self.fc3(x)))\n",
    "        \n",
    "        #output so no dropout\n",
    "        x = F.log_softmax(self.fc4(x), dim = 1)\n",
    "        \n",
    "        return x"
   ]
  },
  {
   "cell_type": "markdown",
   "metadata": {},
   "source": [
    "```\n",
    "\n",
    "During training we want to use dropout to prevent overfitting, but during inference we want to use the entire network. So, we need to turn off dropout during validation, testing, and whenever we're using the network to make predictions. To do this, you use `model.eval()`. This sets the model to evaluation mode where the dropout probability is 0. You can turn dropout back on by setting the model to train mode with `model.train()`. In general, the pattern for the validation loop will look like this, where you turn off gradients, set the model to evaluation mode, calculate the validation loss and metric, then set the model back to train mode.\n",
    "\n",
    "```python\n",
    "# turn off gradients\n",
    "with torch.no_grad():\n",
    "    \n",
    "    # set model to evaluation mode\n",
    "    model.eval()\n",
    "    \n",
    "    # validation pass here\n",
    "    for images, labels in testloader:\n",
    "        ...\n",
    "\n",
    "# set model back to train mode\n",
    "model.train()\n",
    "```"
   ]
  },
  {
   "cell_type": "code",
   "execution_count": 21,
   "metadata": {},
   "outputs": [
    {
     "name": "stdout",
     "output_type": "stream",
     "text": [
      "Epoch: 1/100.. Training loss: 0.608...  Test Loss: 78.642..  Test Accuracy: 0.824\n",
      "Epoch: 2/100.. Training loss: 0.483...  Test Loss: 73.324..  Test Accuracy: 0.837\n",
      "Epoch: 3/100.. Training loss: 0.461...  Test Loss: 65.590..  Test Accuracy: 0.848\n",
      "Epoch: 4/100.. Training loss: 0.437...  Test Loss: 61.932..  Test Accuracy: 0.857\n",
      "Epoch: 5/100.. Training loss: 0.413...  Test Loss: 63.620..  Test Accuracy: 0.855\n",
      "Epoch: 6/100.. Training loss: 0.412...  Test Loss: 62.938..  Test Accuracy: 0.854\n",
      "Epoch: 7/100.. Training loss: 0.407...  Test Loss: 60.348..  Test Accuracy: 0.864\n",
      "Epoch: 8/100.. Training loss: 0.396...  Test Loss: 63.686..  Test Accuracy: 0.860\n",
      "Epoch: 9/100.. Training loss: 0.394...  Test Loss: 58.871..  Test Accuracy: 0.868\n",
      "Epoch: 10/100.. Training loss: 0.387...  Test Loss: 62.555..  Test Accuracy: 0.863\n",
      "Epoch: 11/100.. Training loss: 0.388...  Test Loss: 62.079..  Test Accuracy: 0.858\n",
      "Epoch: 12/100.. Training loss: 0.380...  Test Loss: 60.420..  Test Accuracy: 0.869\n",
      "Epoch: 13/100.. Training loss: 0.379...  Test Loss: 60.760..  Test Accuracy: 0.866\n",
      "Epoch: 14/100.. Training loss: 0.375...  Test Loss: 58.018..  Test Accuracy: 0.872\n",
      "Epoch: 15/100.. Training loss: 0.370...  Test Loss: 58.770..  Test Accuracy: 0.872\n",
      "Epoch: 16/100.. Training loss: 0.366...  Test Loss: 57.484..  Test Accuracy: 0.874\n",
      "Epoch: 17/100.. Training loss: 0.368...  Test Loss: 63.078..  Test Accuracy: 0.859\n",
      "Epoch: 18/100.. Training loss: 0.360...  Test Loss: 60.364..  Test Accuracy: 0.867\n",
      "Epoch: 19/100.. Training loss: 0.363...  Test Loss: 58.561..  Test Accuracy: 0.873\n",
      "Epoch: 20/100.. Training loss: 0.361...  Test Loss: 58.250..  Test Accuracy: 0.871\n",
      "Epoch: 21/100.. Training loss: 0.357...  Test Loss: 59.200..  Test Accuracy: 0.869\n",
      "Epoch: 22/100.. Training loss: 0.356...  Test Loss: 60.562..  Test Accuracy: 0.873\n",
      "Epoch: 23/100.. Training loss: 0.356...  Test Loss: 56.817..  Test Accuracy: 0.875\n",
      "Epoch: 24/100.. Training loss: 0.354...  Test Loss: 58.890..  Test Accuracy: 0.870\n",
      "Epoch: 25/100.. Training loss: 0.353...  Test Loss: 58.511..  Test Accuracy: 0.870\n",
      "Epoch: 26/100.. Training loss: 0.348...  Test Loss: 57.576..  Test Accuracy: 0.878\n",
      "Epoch: 27/100.. Training loss: 0.339...  Test Loss: 56.818..  Test Accuracy: 0.875\n",
      "Epoch: 28/100.. Training loss: 0.346...  Test Loss: 58.186..  Test Accuracy: 0.877\n",
      "Epoch: 29/100.. Training loss: 0.352...  Test Loss: 57.220..  Test Accuracy: 0.875\n",
      "Epoch: 30/100.. Training loss: 0.341...  Test Loss: 57.664..  Test Accuracy: 0.876\n",
      "Epoch: 31/100.. Training loss: 0.341...  Test Loss: 60.173..  Test Accuracy: 0.877\n",
      "Epoch: 32/100.. Training loss: 0.335...  Test Loss: 59.626..  Test Accuracy: 0.874\n",
      "Epoch: 33/100.. Training loss: 0.338...  Test Loss: 57.888..  Test Accuracy: 0.875\n",
      "Epoch: 34/100.. Training loss: 0.337...  Test Loss: 61.560..  Test Accuracy: 0.868\n",
      "Epoch: 35/100.. Training loss: 0.334...  Test Loss: 59.338..  Test Accuracy: 0.869\n",
      "Epoch: 36/100.. Training loss: 0.336...  Test Loss: 57.083..  Test Accuracy: 0.875\n",
      "Epoch: 37/100.. Training loss: 0.338...  Test Loss: 58.938..  Test Accuracy: 0.873\n",
      "Epoch: 38/100.. Training loss: 0.333...  Test Loss: 60.484..  Test Accuracy: 0.868\n",
      "Epoch: 39/100.. Training loss: 0.338...  Test Loss: 58.033..  Test Accuracy: 0.877\n",
      "Epoch: 40/100.. Training loss: 0.334...  Test Loss: 59.753..  Test Accuracy: 0.872\n",
      "Epoch: 41/100.. Training loss: 0.324...  Test Loss: 60.041..  Test Accuracy: 0.871\n",
      "Epoch: 42/100.. Training loss: 0.327...  Test Loss: 59.309..  Test Accuracy: 0.878\n",
      "Epoch: 43/100.. Training loss: 0.325...  Test Loss: 57.246..  Test Accuracy: 0.876\n",
      "Epoch: 44/100.. Training loss: 0.330...  Test Loss: 57.268..  Test Accuracy: 0.882\n",
      "Epoch: 45/100.. Training loss: 0.320...  Test Loss: 62.466..  Test Accuracy: 0.872\n",
      "Epoch: 46/100.. Training loss: 0.318...  Test Loss: 60.007..  Test Accuracy: 0.877\n",
      "Epoch: 47/100.. Training loss: 0.316...  Test Loss: 62.531..  Test Accuracy: 0.871\n",
      "Epoch: 48/100.. Training loss: 0.318...  Test Loss: 59.754..  Test Accuracy: 0.875\n",
      "Epoch: 49/100.. Training loss: 0.320...  Test Loss: 60.357..  Test Accuracy: 0.875\n",
      "Epoch: 50/100.. Training loss: 0.324...  Test Loss: 60.401..  Test Accuracy: 0.874\n",
      "Epoch: 51/100.. Training loss: 0.319...  Test Loss: 59.034..  Test Accuracy: 0.874\n",
      "Epoch: 52/100.. Training loss: 0.323...  Test Loss: 61.863..  Test Accuracy: 0.874\n",
      "Epoch: 53/100.. Training loss: 0.316...  Test Loss: 61.309..  Test Accuracy: 0.878\n",
      "Epoch: 54/100.. Training loss: 0.315...  Test Loss: 61.024..  Test Accuracy: 0.874\n",
      "Epoch: 55/100.. Training loss: 0.320...  Test Loss: 60.927..  Test Accuracy: 0.874\n",
      "Epoch: 56/100.. Training loss: 0.306...  Test Loss: 59.915..  Test Accuracy: 0.876\n",
      "Epoch: 57/100.. Training loss: 0.312...  Test Loss: 59.185..  Test Accuracy: 0.877\n",
      "Epoch: 58/100.. Training loss: 0.317...  Test Loss: 59.748..  Test Accuracy: 0.877\n",
      "Epoch: 59/100.. Training loss: 0.310...  Test Loss: 58.626..  Test Accuracy: 0.876\n",
      "Epoch: 60/100.. Training loss: 0.310...  Test Loss: 58.551..  Test Accuracy: 0.880\n",
      "Epoch: 61/100.. Training loss: 0.314...  Test Loss: 59.715..  Test Accuracy: 0.879\n",
      "Epoch: 62/100.. Training loss: 0.311...  Test Loss: 59.968..  Test Accuracy: 0.880\n",
      "Epoch: 63/100.. Training loss: 0.308...  Test Loss: 60.573..  Test Accuracy: 0.871\n",
      "Epoch: 64/100.. Training loss: 0.311...  Test Loss: 61.795..  Test Accuracy: 0.877\n",
      "Epoch: 65/100.. Training loss: 0.304...  Test Loss: 60.761..  Test Accuracy: 0.880\n",
      "Epoch: 66/100.. Training loss: 0.310...  Test Loss: 63.202..  Test Accuracy: 0.878\n",
      "Epoch: 67/100.. Training loss: 0.319...  Test Loss: 63.633..  Test Accuracy: 0.874\n",
      "Epoch: 68/100.. Training loss: 0.298...  Test Loss: 60.597..  Test Accuracy: 0.882\n",
      "Epoch: 69/100.. Training loss: 0.307...  Test Loss: 63.883..  Test Accuracy: 0.870\n",
      "Epoch: 70/100.. Training loss: 0.297...  Test Loss: 60.297..  Test Accuracy: 0.882\n",
      "Epoch: 71/100.. Training loss: 0.313...  Test Loss: 59.917..  Test Accuracy: 0.875\n",
      "Epoch: 72/100.. Training loss: 0.297...  Test Loss: 61.411..  Test Accuracy: 0.875\n",
      "Epoch: 73/100.. Training loss: 0.296...  Test Loss: 61.062..  Test Accuracy: 0.880\n",
      "Epoch: 74/100.. Training loss: 0.301...  Test Loss: 65.540..  Test Accuracy: 0.878\n",
      "Epoch: 75/100.. Training loss: 0.308...  Test Loss: 63.668..  Test Accuracy: 0.877\n",
      "Epoch: 76/100.. Training loss: 0.295...  Test Loss: 63.257..  Test Accuracy: 0.876\n",
      "Epoch: 77/100.. Training loss: 0.294...  Test Loss: 63.798..  Test Accuracy: 0.879\n",
      "Epoch: 78/100.. Training loss: 0.303...  Test Loss: 60.234..  Test Accuracy: 0.879\n",
      "Epoch: 79/100.. Training loss: 0.293...  Test Loss: 62.346..  Test Accuracy: 0.881\n",
      "Epoch: 80/100.. Training loss: 0.306...  Test Loss: 63.944..  Test Accuracy: 0.878\n",
      "Epoch: 81/100.. Training loss: 0.296...  Test Loss: 63.734..  Test Accuracy: 0.875\n",
      "Epoch: 82/100.. Training loss: 0.296...  Test Loss: 59.939..  Test Accuracy: 0.880\n",
      "Epoch: 83/100.. Training loss: 0.286...  Test Loss: 64.385..  Test Accuracy: 0.880\n",
      "Epoch: 84/100.. Training loss: 0.293...  Test Loss: 62.261..  Test Accuracy: 0.879\n",
      "Epoch: 85/100.. Training loss: 0.304...  Test Loss: 63.566..  Test Accuracy: 0.871\n",
      "Epoch: 86/100.. Training loss: 0.302...  Test Loss: 59.957..  Test Accuracy: 0.881\n",
      "Epoch: 87/100.. Training loss: 0.296...  Test Loss: 61.273..  Test Accuracy: 0.881\n",
      "Epoch: 88/100.. Training loss: 0.294...  Test Loss: 60.626..  Test Accuracy: 0.875\n",
      "Epoch: 89/100.. Training loss: 0.282...  Test Loss: 60.612..  Test Accuracy: 0.879\n",
      "Epoch: 90/100.. Training loss: 0.304...  Test Loss: 61.949..  Test Accuracy: 0.877\n",
      "Epoch: 91/100.. Training loss: 0.296...  Test Loss: 59.373..  Test Accuracy: 0.874\n",
      "Epoch: 92/100.. Training loss: 0.290...  Test Loss: 62.145..  Test Accuracy: 0.878\n",
      "Epoch: 93/100.. Training loss: 0.305...  Test Loss: 62.772..  Test Accuracy: 0.885\n",
      "Epoch: 94/100.. Training loss: 0.288...  Test Loss: 60.322..  Test Accuracy: 0.881\n",
      "Epoch: 95/100.. Training loss: 0.291...  Test Loss: 61.856..  Test Accuracy: 0.873\n",
      "Epoch: 96/100.. Training loss: 0.303...  Test Loss: 66.255..  Test Accuracy: 0.877\n",
      "Epoch: 97/100.. Training loss: 0.284...  Test Loss: 62.956..  Test Accuracy: 0.881\n",
      "Epoch: 98/100.. Training loss: 0.295...  Test Loss: 64.514..  Test Accuracy: 0.877\n"
     ]
    },
    {
     "name": "stdout",
     "output_type": "stream",
     "text": [
      "Epoch: 99/100.. Training loss: 0.284...  Test Loss: 64.704..  Test Accuracy: 0.879\n",
      "Epoch: 100/100.. Training loss: 0.292...  Test Loss: 65.778..  Test Accuracy: 0.881\n"
     ]
    }
   ],
   "source": [
    "model = Classifier()\n",
    "criterion = nn.NLLLoss()\n",
    "optimizer = optim.Adam(model.parameters(), lr = 0.003)\n",
    "epoch = 100\n",
    "steps = 0\n",
    "\n",
    "train_losses, test_losses = [], []\n",
    "\n",
    "for e in range(epoch):\n",
    "    running_loss = 0    \n",
    "    for images, label in trainloader:\n",
    "        \n",
    "        optimizer.zero_grad()\n",
    "        \n",
    "        log_ps = model(images)\n",
    "        loss = criterion(log_ps, label)\n",
    "        loss.backward()\n",
    "        optimizer.step()\n",
    "        \n",
    "        running_loss += loss.item()\n",
    "    else:\n",
    "        test_loss = 0\n",
    "        accuracy = 0\n",
    "        \n",
    "        with torch.no_grad():\n",
    "            for images, labels in testloader:\n",
    "                \n",
    "                # set model to evaluation mode\n",
    "                model.eval()\n",
    "                \n",
    "                log_ps = model(images)\n",
    "                \n",
    "                test_loss += criterion(log_ps, labels)\n",
    "                \n",
    "                ps = torch.exp(log_ps)\n",
    "                \n",
    "                top_p, top_class = ps.topk(1, dim= 1)\n",
    "                \n",
    "                equals = top_class == labels.view(*top_class.shape)\n",
    "                accuracy += torch.mean(equals.type(torch.FloatTensor))\n",
    "        \n",
    "        #Setting model to train mode\n",
    "        model.train()\n",
    "        \n",
    "        train_losses.append(running_loss / len(trainloader))\n",
    "        test_losses.append(test_loss/len(testloader))\n",
    "        \n",
    "        print(\"Epoch: {}/{}..\".format(e+1, epoch),\n",
    "              \"Training loss: {:.3f}... \".format(running_loss / len(trainloader)),\n",
    "               \"Test Loss: {:.3f}.. \".format(test_loss, len(testloader)),\n",
    "               \"Test Accuracy: {:.3f}\".format(accuracy/len(testloader)))\n",
    "    "
   ]
  },
  {
   "cell_type": "code",
   "execution_count": 22,
   "metadata": {},
   "outputs": [
    {
     "data": {
      "text/plain": [
       "<matplotlib.legend.Legend at 0x233aadbfb38>"
      ]
     },
     "execution_count": 22,
     "metadata": {},
     "output_type": "execute_result"
    },
    {
     "data": {
      "image/png": "[encoded data removed]",
      "text/plain": [
       "<Figure size 432x288 with 1 Axes>"
      ]
     },
     "metadata": {
      "image/png": {
       "height": 250,
       "width": 380
      },
      "needs_background": "light"
     },
     "output_type": "display_data"
    }
   ],
   "source": [
    "%matplotlib inline\n",
    "%config InlineBackend.figure_format = 'retina'\n",
    "\n",
    "import matplotlib.pyplot as plt\n",
    "\n",
    "plt.plot(train_losses, label='Training loss')\n",
    "plt.plot(test_losses, label='Validation loss')\n",
    "plt.legend(frameon=False)"
   ]
  },
  {
   "cell_type": "markdown",
   "metadata": {},
   "source": [
    "# Saving and Loading Model"
   ]
  },
  {
   "cell_type": "code",
   "execution_count": 23,
   "metadata": {},
   "outputs": [
    {
     "name": "stdout",
     "output_type": "stream",
     "text": [
      "Our model: \n",
      "\n",
      " Classifier(\n",
      "  (fc1): Linear(in_features=784, out_features=256, bias=True)\n",
      "  (fc2): Linear(in_features=256, out_features=128, bias=True)\n",
      "  (fc3): Linear(in_features=128, out_features=64, bias=True)\n",
      "  (fc4): Linear(in_features=64, out_features=10, bias=True)\n",
      "  (dropout): Dropout(p=0.2, inplace=False)\n",
      ") \n",
      "\n"
     ]
    }
   ],
   "source": [
    "print('Our model: \\n\\n', model, '\\n')"
   ]
  },
  {
   "cell_type": "code",
   "execution_count": 29,
   "metadata": {},
   "outputs": [
    {
     "name": "stdout",
     "output_type": "stream",
     "text": [
      "The state dick keys: \n",
      "\n",
      " odict_keys(['fc1.weight', 'fc1.bias', 'fc2.weight', 'fc2.bias', 'fc3.weight', 'fc3.bias', 'fc4.weight', 'fc4.bias'])\n"
     ]
    }
   ],
   "source": [
    "print('The state dick keys: \\n\\n', model.state_dict().keys())"
   ]
  },
  {
   "cell_type": "code",
   "execution_count": 40,
   "metadata": {},
   "outputs": [],
   "source": [
    "torch.save(model.state_dict(), 'droped_out_model.pth')"
   ]
  },
  {
   "cell_type": "code",
   "execution_count": 41,
   "metadata": {},
   "outputs": [
    {
     "name": "stdout",
     "output_type": "stream",
     "text": [
      "odict_keys(['fc1.weight', 'fc1.bias', 'fc2.weight', 'fc2.bias', 'fc3.weight', 'fc3.bias', 'fc4.weight', 'fc4.bias'])\n"
     ]
    }
   ],
   "source": [
    "state_dict = torch.load('droped_out_model.pth')\n",
    "print(state_dict.keys())"
   ]
  },
  {
   "cell_type": "markdown",
   "metadata": {},
   "source": [
    "To load the state dict in to the network, we need following code"
   ]
  },
  {
   "cell_type": "code",
   "execution_count": 42,
   "metadata": {},
   "outputs": [
    {
     "ename": "NameError",
     "evalue": "name 'loaded_model' is not defined",
     "output_type": "error",
     "traceback": [
      "\u001b[1;31m---------------------------------------------------------------------------\u001b[0m",
      "\u001b[1;31mNameError\u001b[0m                                 Traceback (most recent call last)",
      "\u001b[1;32m<ipython-input-42-4b63c33bf77a>\u001b[0m in \u001b[0;36m<module>\u001b[1;34m()\u001b[0m\n\u001b[1;32m----> 1\u001b[1;33m \u001b[0mloaded_model\u001b[0m\u001b[1;33m.\u001b[0m\u001b[0mload_state_dict\u001b[0m\u001b[1;33m(\u001b[0m\u001b[0mstate_dict\u001b[0m\u001b[1;33m)\u001b[0m\u001b[1;33m\u001b[0m\u001b[0m\n\u001b[0m\u001b[0;32m      2\u001b[0m \u001b[0mloaded_model\u001b[0m\u001b[1;33m.\u001b[0m\u001b[0meval\u001b[0m\u001b[1;33m(\u001b[0m\u001b[1;33m)\u001b[0m\u001b[1;33m\u001b[0m\u001b[0m\n",
      "\u001b[1;31mNameError\u001b[0m: name 'loaded_model' is not defined"
     ]
    }
   ],
   "source": [
    "model.load_state_dict(state_dict)\n",
    "model.eval()"
   ]
  },
  {
   "cell_type": "code",
   "execution_count": 39,
   "metadata": {},
   "outputs": [
    {
     "data": {
      "image/png": "[encoded data removed]",
      "text/plain": [
       "<Figure size 432x648 with 2 Axes>"
      ]
     },
     "metadata": {
      "image/png": {
       "height": 204,
       "width": 423
      },
      "needs_background": "light"
     },
     "output_type": "display_data"
    }
   ],
   "source": [
    "# Import helper module (should be in the repo)\n",
    "import helper\n",
    "\n",
    "# Test out your network!\n",
    "\n",
    "model.eval()\n",
    "\n",
    "dataiter = iter(testloader)\n",
    "images, labels = dataiter.next()\n",
    "img = images[0]\n",
    "# Convert 2D image to 1D vector\n",
    "img = img.view(1, 784)\n",
    "\n",
    "# Calculate the class probabilities (softmax) for img\n",
    "with torch.no_grad():\n",
    "    output = model.forward(img)\n",
    "\n",
    "ps = torch.exp(output)\n",
    "\n",
    "# Plot the image and probabilities\n",
    "helper.view_classify(img.view(1, 28, 28), ps, version='Fashion')"
   ]
  }
 ],
 "metadata": {
  "kernelspec": {
   "display_name": "Python 3",
   "language": "python",
   "name": "python3"
  },
  "language_info": {
   "codemirror_mode": {
    "name": "ipython",
    "version": 3
   },
   "file_extension": ".py",
   "mimetype": "text/x-python",
   "name": "python",
   "nbconvert_exporter": "python",
   "pygments_lexer": "ipython3",
   "version": "3.7.0"
  }
 },
 "nbformat": 4,
 "nbformat_minor": 2
}
