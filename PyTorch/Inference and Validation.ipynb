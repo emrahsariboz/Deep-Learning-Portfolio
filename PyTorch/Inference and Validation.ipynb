{
 "cells": [
  {
   "cell_type": "markdown",
   "metadata": {},
   "source": [
    "# Inference and Validation"
   ]
  },
  {
   "cell_type": "markdown",
   "metadata": {},
   "source": [
    "We can use the trained network to make a prediction which is typically called **inference**. However, neural network have a tendency to perform well on training data and not generalize on unseen data. This problem is known as **overfitting**. To test the neural network for overfiting, we measure the performance on data not in the training set called the **validation** set"
   ]
  },
  {
   "cell_type": "code",
   "execution_count": 15,
   "metadata": {},
   "outputs": [],
   "source": [
    "import torch\n",
    "from torchvision import datasets, transforms\n",
    "\n",
    "\n",
    "transform = transforms.Compose([transforms.ToTensor(),\n",
    "                                transforms.Normalize((0.5,), (0.5,))])\n",
    "# Download and load the training data\n",
    "trainset = datasets.FashionMNIST('~/.pytorch/F_MNIST_data/', download=True, train=True, transform=transform)\n",
    "trainloader = torch.utils.data.DataLoader(trainset, batch_size=64, shuffle=True)\n",
    "\n",
    "\n",
    "# Download and load the test data\n",
    "testset = datasets.FashionMNIST('~/.pytorch/F_MNIST_data/', download=True, train=False, transform=transform)\n",
    "testloader = torch.utils.data.DataLoader(testset, batch_size=64, shuffle=True)\n"
   ]
  },
  {
   "cell_type": "code",
   "execution_count": 16,
   "metadata": {},
   "outputs": [],
   "source": [
    "from torch import nn, optim\n",
    "import torch.nn.functional as F\n",
    "\n",
    "class Classifier(nn.Module):\n",
    "    def __init__(self):\n",
    "        super().__init__()\n",
    "        \n",
    "        self.fc1 = nn.Linear(784, 256)\n",
    "        self.fc2 = nn.Linear(256, 128)\n",
    "        self.fc3 = nn.Linear(128, 64)\n",
    "        self.fc4 = nn.Linear(64, 10)\n",
    "        \n",
    "    def forward(self, x):\n",
    "        \n",
    "        x = x.view(x.shape[0], -1)\n",
    "        \n",
    "        x = F.relu(self.fc1(x))\n",
    "        x = F.relu(self.fc2(x))\n",
    "        x = F.relu(self.fc3(x))\n",
    "        x = F.log_softmax(self.fc4(x))\n",
    "    \n",
    "        return x\n",
    "        \n",
    "        \n"
   ]
  },
  {
   "cell_type": "code",
   "execution_count": 17,
   "metadata": {},
   "outputs": [
    {
     "name": "stderr",
     "output_type": "stream",
     "text": [
      "C:\\Anaconda\\lib\\site-packages\\ipykernel_launcher.py:20: UserWarning: Implicit dimension choice for log_softmax has been deprecated. Change the call to include dim=X as an argument.\n"
     ]
    },
    {
     "name": "stdout",
     "output_type": "stream",
     "text": [
      "tensor([[0.0966, 0.0916, 0.1085, 0.1042, 0.1115, 0.0905, 0.0950, 0.1109, 0.0954,\n",
      "         0.0958],\n",
      "        [0.0949, 0.0914, 0.1051, 0.1041, 0.1171, 0.0914, 0.0946, 0.1094, 0.0934,\n",
      "         0.0988],\n",
      "        [0.0962, 0.0915, 0.1067, 0.1039, 0.1097, 0.0905, 0.0971, 0.1102, 0.0989,\n",
      "         0.0953]], grad_fn=<SliceBackward>)\n",
      "tensor([[9],\n",
      "        [9],\n",
      "        [9]])\n",
      "tensor([[0.1153],\n",
      "        [0.1149],\n",
      "        [0.1176]], grad_fn=<SliceBackward>)\n"
     ]
    }
   ],
   "source": [
    "model = Classifier()\n",
    "\n",
    "images, label = next(iter(trainloader))\n",
    "\n",
    "ps = torch.exp(model(images))\n",
    "\n",
    "print(ps[0:3])\n",
    "\n",
    "#TopK returns the index of largest k element. When we pass 1, it will return one index which is the highest element of Tensor.\n",
    "top_probabilities, top_classses = ps.topk(1, dim = 1)\n",
    "\n",
    "print(top_class[0:3])\n",
    "print(top_p[0:3])"
   ]
  },
  {
   "cell_type": "markdown",
   "metadata": {},
   "source": [
    "Now we check if the predicted classes match the labels. This is as simple as equating the top_class and labels but we need to be careful with shapes. Top class is 2D tensor with (64, 1) while labels is 1D with shape (64). TO get the equatiy work, we need them to have same shape which can be done with the following trick.\n",
    "\n",
    "**equals = top_class == label.view(*top_class.shape)**\n"
   ]
  },
  {
   "cell_type": "code",
   "execution_count": 18,
   "metadata": {},
   "outputs": [
    {
     "data": {
      "text/plain": [
       "torch.Size([64, 1])"
      ]
     },
     "execution_count": 18,
     "metadata": {},
     "output_type": "execute_result"
    }
   ],
   "source": [
    "equals.shape"
   ]
  },
  {
   "cell_type": "code",
   "execution_count": 21,
   "metadata": {},
   "outputs": [
    {
     "data": {
      "text/plain": [
       "torch.Size([64])"
      ]
     },
     "execution_count": 21,
     "metadata": {},
     "output_type": "execute_result"
    }
   ],
   "source": [
    "label.shape"
   ]
  },
  {
   "cell_type": "code",
   "execution_count": 27,
   "metadata": {},
   "outputs": [],
   "source": [
    "equals = top_class == label.view(top_class.shape)"
   ]
  },
  {
   "cell_type": "code",
   "execution_count": 28,
   "metadata": {},
   "outputs": [
    {
     "data": {
      "text/plain": [
       "tensor([[0.],\n",
       "        [0.],\n",
       "        [0.],\n",
       "        [0.],\n",
       "        [0.],\n",
       "        [1.],\n",
       "        [0.],\n",
       "        [0.],\n",
       "        [0.],\n",
       "        [1.],\n",
       "        [0.],\n",
       "        [0.],\n",
       "        [1.],\n",
       "        [0.],\n",
       "        [0.],\n",
       "        [0.],\n",
       "        [0.],\n",
       "        [0.],\n",
       "        [0.],\n",
       "        [0.],\n",
       "        [0.],\n",
       "        [1.],\n",
       "        [0.],\n",
       "        [0.],\n",
       "        [0.],\n",
       "        [0.],\n",
       "        [0.],\n",
       "        [0.],\n",
       "        [0.],\n",
       "        [0.],\n",
       "        [0.],\n",
       "        [0.],\n",
       "        [1.],\n",
       "        [0.],\n",
       "        [0.],\n",
       "        [1.],\n",
       "        [0.],\n",
       "        [0.],\n",
       "        [0.],\n",
       "        [0.],\n",
       "        [0.],\n",
       "        [0.],\n",
       "        [0.],\n",
       "        [0.],\n",
       "        [0.],\n",
       "        [0.],\n",
       "        [0.],\n",
       "        [0.],\n",
       "        [0.],\n",
       "        [0.],\n",
       "        [0.],\n",
       "        [0.],\n",
       "        [0.],\n",
       "        [0.],\n",
       "        [0.],\n",
       "        [0.],\n",
       "        [0.],\n",
       "        [0.],\n",
       "        [0.],\n",
       "        [0.],\n",
       "        [0.],\n",
       "        [0.],\n",
       "        [0.],\n",
       "        [0.]])"
      ]
     },
     "execution_count": 28,
     "metadata": {},
     "output_type": "execute_result"
    }
   ],
   "source": [
    "equals.type(torch.FloatTensor)"
   ]
  },
  {
   "cell_type": "markdown",
   "metadata": {},
   "source": [
    "Now, we can use the above tensor to calculate accuracy just by taking the mean. "
   ]
  },
  {
   "cell_type": "code",
   "execution_count": 29,
   "metadata": {},
   "outputs": [
    {
     "name": "stdout",
     "output_type": "stream",
     "text": [
      "Accuracy is 9.375 %\n"
     ]
    }
   ],
   "source": [
    "accuracy = torch.mean(equals.type(torch.FloatTensor))\n",
    "print('Accuracy is', accuracy.item()*100, '%')"
   ]
  },
  {
   "cell_type": "code",
   "execution_count": 31,
   "metadata": {},
   "outputs": [
    {
     "name": "stderr",
     "output_type": "stream",
     "text": [
      "C:\\Anaconda\\lib\\site-packages\\ipykernel_launcher.py:20: UserWarning: Implicit dimension choice for log_softmax has been deprecated. Change the call to include dim=X as an argument.\n"
     ]
    },
    {
     "name": "stdout",
     "output_type": "stream",
     "text": [
      "Epoch: 1/100.. Training loss: 0.513...  Test Loss: 74.401..  Test Accuracy: 0.829\n",
      "Epoch: 2/100.. Training loss: 0.389...  Test Loss: 61.700..  Test Accuracy: 0.855\n",
      "Epoch: 3/100.. Training loss: 0.353...  Test Loss: 63.337..  Test Accuracy: 0.854\n",
      "Epoch: 4/100.. Training loss: 0.329...  Test Loss: 60.231..  Test Accuracy: 0.867\n",
      "Epoch: 5/100.. Training loss: 0.309...  Test Loss: 59.941..  Test Accuracy: 0.864\n",
      "Epoch: 6/100.. Training loss: 0.303...  Test Loss: 61.442..  Test Accuracy: 0.865\n",
      "Epoch: 7/100.. Training loss: 0.291...  Test Loss: 61.195..  Test Accuracy: 0.866\n",
      "Epoch: 8/100.. Training loss: 0.282...  Test Loss: 56.947..  Test Accuracy: 0.878\n",
      "Epoch: 9/100.. Training loss: 0.272...  Test Loss: 59.074..  Test Accuracy: 0.872\n",
      "Epoch: 10/100.. Training loss: 0.264...  Test Loss: 57.733..  Test Accuracy: 0.876\n",
      "Epoch: 11/100.. Training loss: 0.257...  Test Loss: 57.605..  Test Accuracy: 0.876\n",
      "Epoch: 12/100.. Training loss: 0.249...  Test Loss: 56.862..  Test Accuracy: 0.877\n",
      "Epoch: 13/100.. Training loss: 0.247...  Test Loss: 55.569..  Test Accuracy: 0.874\n",
      "Epoch: 14/100.. Training loss: 0.238...  Test Loss: 59.633..  Test Accuracy: 0.879\n",
      "Epoch: 15/100.. Training loss: 0.233...  Test Loss: 58.239..  Test Accuracy: 0.878\n",
      "Epoch: 16/100.. Training loss: 0.230...  Test Loss: 62.433..  Test Accuracy: 0.879\n",
      "Epoch: 17/100.. Training loss: 0.227...  Test Loss: 59.816..  Test Accuracy: 0.879\n",
      "Epoch: 18/100.. Training loss: 0.224...  Test Loss: 59.397..  Test Accuracy: 0.883\n",
      "Epoch: 19/100.. Training loss: 0.223...  Test Loss: 64.355..  Test Accuracy: 0.879\n",
      "Epoch: 20/100.. Training loss: 0.210...  Test Loss: 63.372..  Test Accuracy: 0.883\n",
      "Epoch: 21/100.. Training loss: 0.212...  Test Loss: 60.220..  Test Accuracy: 0.885\n",
      "Epoch: 22/100.. Training loss: 0.207...  Test Loss: 65.722..  Test Accuracy: 0.877\n",
      "Epoch: 23/100.. Training loss: 0.203...  Test Loss: 63.129..  Test Accuracy: 0.883\n",
      "Epoch: 24/100.. Training loss: 0.199...  Test Loss: 58.064..  Test Accuracy: 0.889\n",
      "Epoch: 25/100.. Training loss: 0.193...  Test Loss: 65.202..  Test Accuracy: 0.880\n",
      "Epoch: 26/100.. Training loss: 0.199...  Test Loss: 69.048..  Test Accuracy: 0.872\n",
      "Epoch: 27/100.. Training loss: 0.190...  Test Loss: 64.158..  Test Accuracy: 0.887\n",
      "Epoch: 28/100.. Training loss: 0.191...  Test Loss: 63.487..  Test Accuracy: 0.888\n",
      "Epoch: 29/100.. Training loss: 0.185...  Test Loss: 68.753..  Test Accuracy: 0.884\n",
      "Epoch: 30/100.. Training loss: 0.185...  Test Loss: 72.448..  Test Accuracy: 0.878\n",
      "Epoch: 31/100.. Training loss: 0.185...  Test Loss: 68.126..  Test Accuracy: 0.886\n",
      "Epoch: 32/100.. Training loss: 0.178...  Test Loss: 74.698..  Test Accuracy: 0.880\n",
      "Epoch: 33/100.. Training loss: 0.183...  Test Loss: 66.580..  Test Accuracy: 0.887\n",
      "Epoch: 34/100.. Training loss: 0.173...  Test Loss: 68.474..  Test Accuracy: 0.885\n",
      "Epoch: 35/100.. Training loss: 0.176...  Test Loss: 71.431..  Test Accuracy: 0.879\n",
      "Epoch: 36/100.. Training loss: 0.169...  Test Loss: 67.725..  Test Accuracy: 0.887\n",
      "Epoch: 37/100.. Training loss: 0.169...  Test Loss: 74.099..  Test Accuracy: 0.883\n",
      "Epoch: 38/100.. Training loss: 0.166...  Test Loss: 76.260..  Test Accuracy: 0.883\n",
      "Epoch: 39/100.. Training loss: 0.167...  Test Loss: 74.516..  Test Accuracy: 0.880\n",
      "Epoch: 40/100.. Training loss: 0.179...  Test Loss: 72.101..  Test Accuracy: 0.886\n",
      "Epoch: 41/100.. Training loss: 0.157...  Test Loss: 78.557..  Test Accuracy: 0.887\n",
      "Epoch: 42/100.. Training loss: 0.154...  Test Loss: 76.031..  Test Accuracy: 0.888\n",
      "Epoch: 43/100.. Training loss: 0.155...  Test Loss: 77.640..  Test Accuracy: 0.888\n",
      "Epoch: 44/100.. Training loss: 0.153...  Test Loss: 74.773..  Test Accuracy: 0.888\n",
      "Epoch: 45/100.. Training loss: 0.165...  Test Loss: 76.687..  Test Accuracy: 0.887\n",
      "Epoch: 46/100.. Training loss: 0.146...  Test Loss: 84.186..  Test Accuracy: 0.877\n",
      "Epoch: 47/100.. Training loss: 0.150...  Test Loss: 80.241..  Test Accuracy: 0.889\n",
      "Epoch: 48/100.. Training loss: 0.160...  Test Loss: 71.912..  Test Accuracy: 0.886\n",
      "Epoch: 49/100.. Training loss: 0.146...  Test Loss: 87.134..  Test Accuracy: 0.880\n",
      "Epoch: 50/100.. Training loss: 0.146...  Test Loss: 77.260..  Test Accuracy: 0.887\n",
      "Epoch: 51/100.. Training loss: 0.146...  Test Loss: 81.242..  Test Accuracy: 0.881\n",
      "Epoch: 52/100.. Training loss: 0.149...  Test Loss: 80.986..  Test Accuracy: 0.881\n",
      "Epoch: 53/100.. Training loss: 0.140...  Test Loss: 83.561..  Test Accuracy: 0.882\n",
      "Epoch: 54/100.. Training loss: 0.142...  Test Loss: 94.085..  Test Accuracy: 0.882\n",
      "Epoch: 55/100.. Training loss: 0.137...  Test Loss: 90.952..  Test Accuracy: 0.884\n",
      "Epoch: 56/100.. Training loss: 0.138...  Test Loss: 82.618..  Test Accuracy: 0.887\n",
      "Epoch: 57/100.. Training loss: 0.138...  Test Loss: 79.803..  Test Accuracy: 0.887\n",
      "Epoch: 58/100.. Training loss: 0.130...  Test Loss: 83.238..  Test Accuracy: 0.883\n",
      "Epoch: 59/100.. Training loss: 0.139...  Test Loss: 82.658..  Test Accuracy: 0.884\n",
      "Epoch: 60/100.. Training loss: 0.130...  Test Loss: 99.633..  Test Accuracy: 0.880\n",
      "Epoch: 61/100.. Training loss: 0.134...  Test Loss: 86.389..  Test Accuracy: 0.889\n",
      "Epoch: 62/100.. Training loss: 0.137...  Test Loss: 86.400..  Test Accuracy: 0.885\n",
      "Epoch: 63/100.. Training loss: 0.125...  Test Loss: 91.425..  Test Accuracy: 0.884\n",
      "Epoch: 64/100.. Training loss: 0.126...  Test Loss: 84.787..  Test Accuracy: 0.883\n",
      "Epoch: 65/100.. Training loss: 0.137...  Test Loss: 91.276..  Test Accuracy: 0.893\n",
      "Epoch: 66/100.. Training loss: 0.128...  Test Loss: 95.826..  Test Accuracy: 0.887\n",
      "Epoch: 67/100.. Training loss: 0.130...  Test Loss: 97.650..  Test Accuracy: 0.886\n",
      "Epoch: 68/100.. Training loss: 0.124...  Test Loss: 99.770..  Test Accuracy: 0.887\n",
      "Epoch: 69/100.. Training loss: 0.119...  Test Loss: 91.552..  Test Accuracy: 0.885\n",
      "Epoch: 70/100.. Training loss: 0.114...  Test Loss: 99.001..  Test Accuracy: 0.885\n",
      "Epoch: 71/100.. Training loss: 0.137...  Test Loss: 90.486..  Test Accuracy: 0.889\n",
      "Epoch: 72/100.. Training loss: 0.127...  Test Loss: 86.805..  Test Accuracy: 0.877\n",
      "Epoch: 73/100.. Training loss: 0.117...  Test Loss: 96.636..  Test Accuracy: 0.889\n",
      "Epoch: 74/100.. Training loss: 0.130...  Test Loss: 95.192..  Test Accuracy: 0.888\n",
      "Epoch: 75/100.. Training loss: 0.121...  Test Loss: 86.504..  Test Accuracy: 0.886\n",
      "Epoch: 76/100.. Training loss: 0.118...  Test Loss: 98.544..  Test Accuracy: 0.883\n",
      "Epoch: 77/100.. Training loss: 0.114...  Test Loss: 101.605..  Test Accuracy: 0.883\n",
      "Epoch: 78/100.. Training loss: 0.126...  Test Loss: 95.471..  Test Accuracy: 0.888\n",
      "Epoch: 79/100.. Training loss: 0.103...  Test Loss: 109.774..  Test Accuracy: 0.884\n",
      "Epoch: 80/100.. Training loss: 0.114...  Test Loss: 96.759..  Test Accuracy: 0.888\n",
      "Epoch: 81/100.. Training loss: 0.113...  Test Loss: 100.231..  Test Accuracy: 0.887\n",
      "Epoch: 82/100.. Training loss: 0.115...  Test Loss: 104.738..  Test Accuracy: 0.882\n",
      "Epoch: 83/100.. Training loss: 0.113...  Test Loss: 110.502..  Test Accuracy: 0.883\n",
      "Epoch: 84/100.. Training loss: 0.121...  Test Loss: 117.345..  Test Accuracy: 0.886\n",
      "Epoch: 85/100.. Training loss: 0.117...  Test Loss: 105.619..  Test Accuracy: 0.889\n",
      "Epoch: 86/100.. Training loss: 0.108...  Test Loss: 123.047..  Test Accuracy: 0.881\n",
      "Epoch: 87/100.. Training loss: 0.110...  Test Loss: 108.751..  Test Accuracy: 0.886\n",
      "Epoch: 88/100.. Training loss: 0.126...  Test Loss: 96.491..  Test Accuracy: 0.883\n",
      "Epoch: 89/100.. Training loss: 0.126...  Test Loss: 104.488..  Test Accuracy: 0.886\n",
      "Epoch: 90/100.. Training loss: 0.110...  Test Loss: 110.134..  Test Accuracy: 0.877\n",
      "Epoch: 91/100.. Training loss: 0.123...  Test Loss: 99.268..  Test Accuracy: 0.884\n",
      "Epoch: 92/100.. Training loss: 0.103...  Test Loss: 113.927..  Test Accuracy: 0.878\n",
      "Epoch: 93/100.. Training loss: 0.104...  Test Loss: 113.995..  Test Accuracy: 0.889\n",
      "Epoch: 94/100.. Training loss: 0.114...  Test Loss: 111.503..  Test Accuracy: 0.887\n",
      "Epoch: 95/100.. Training loss: 0.116...  Test Loss: 110.373..  Test Accuracy: 0.887\n",
      "Epoch: 96/100.. Training loss: 0.109...  Test Loss: 121.198..  Test Accuracy: 0.887\n",
      "Epoch: 97/100.. Training loss: 0.127...  Test Loss: 124.581..  Test Accuracy: 0.883\n",
      "Epoch: 98/100.. Training loss: 0.101...  Test Loss: 119.235..  Test Accuracy: 0.883\n"
     ]
    },
    {
     "name": "stdout",
     "output_type": "stream",
     "text": [
      "Epoch: 99/100.. Training loss: 0.121...  Test Loss: 104.995..  Test Accuracy: 0.888\n",
      "Epoch: 100/100.. Training loss: 0.094...  Test Loss: 122.745..  Test Accuracy: 0.881\n"
     ]
    }
   ],
   "source": [
    "model = Classifier()\n",
    "criterion = nn.NLLLoss()\n",
    "optimizer = optim.Adam(model.parameters(), lr = 0.003)\n",
    "epoch = 100\n",
    "steps = 0\n",
    "\n",
    "train_losses, test_losses = [], []\n",
    "\n",
    "for e in range(epoch):\n",
    "    running_loss = 0    \n",
    "    for images, label in trainloader:\n",
    "        \n",
    "        optimizer.zero_grad()\n",
    "        \n",
    "        log_ps = model(images)\n",
    "        loss = criterion(log_ps, label)\n",
    "        loss.backward()\n",
    "        optimizer.step()\n",
    "        \n",
    "        running_loss += loss.item()\n",
    "    else:\n",
    "        test_loss = 0\n",
    "        accuracy = 0\n",
    "        \n",
    "        with torch.no_grad():\n",
    "            for images, labels in testloader:\n",
    "                log_ps = model(images)\n",
    "                \n",
    "                test_loss += criterion(log_ps, labels)\n",
    "                \n",
    "                ps = torch.exp(log_ps)\n",
    "                \n",
    "                top_p, top_class = ps.topk(1, dim= 1)\n",
    "                \n",
    "                equals = top_class == labels.view(*top_class.shape)\n",
    "                accuracy += torch.mean(equals.type(torch.FloatTensor))\n",
    "        train_losses.append(running_loss / len(trainloader))\n",
    "        test_losses.append(test_loss/len(testloader))\n",
    "        \n",
    "        print(\"Epoch: {}/{}..\".format(e+1, epoch),\n",
    "              \"Training loss: {:.3f}... \".format(running_loss / len(trainloader)),\n",
    "               \"Test Loss: {:.3f}.. \".format(test_loss, len(testloader)),\n",
    "               \"Test Accuracy: {:.3f}\".format(accuracy/len(testloader)))\n",
    "    "
   ]
  },
  {
   "cell_type": "code",
   "execution_count": 32,
   "metadata": {},
   "outputs": [
    {
     "data": {
      "text/plain": [
       "<matplotlib.legend.Legend at 0x2ed59b69cc0>"
      ]
     },
     "execution_count": 32,
     "metadata": {},
     "output_type": "execute_result"
    },
    {
     "data": {
      "image/png": "[encoded data removed]",
      "text/plain": [
       "<Figure size 432x288 with 1 Axes>"
      ]
     },
     "metadata": {
      "image/png": {
       "height": 250,
       "width": 373
      },
      "needs_background": "light"
     },
     "output_type": "display_data"
    }
   ],
   "source": [
    "%matplotlib inline\n",
    "%config InlineBackend.figure_format = 'retina'\n",
    "\n",
    "import matplotlib.pyplot as plt\n",
    "\n",
    "plt.plot(train_losses, label = \"Training loss\")\n",
    "plt.plot(test_losses, label = \"Validation loss\")\n",
    "plt.legend(frameon=False)"
   ]
  },
  {
   "cell_type": "markdown",
   "metadata": {},
   "source": [
    "From the above figure, we can see that Network learns training data and can't generalize on test data. "
   ]
  },
  {
   "cell_type": "code",
   "execution_count": null,
   "metadata": {},
   "outputs": [],
   "source": []
  }
 ],
 "metadata": {
  "kernelspec": {
   "display_name": "Python 3",
   "language": "python",
   "name": "python3"
  },
  "language_info": {
   "codemirror_mode": {
    "name": "ipython",
    "version": 3
   },
   "file_extension": ".py",
   "mimetype": "text/x-python",
   "name": "python",
   "nbconvert_exporter": "python",
   "pygments_lexer": "ipython3",
   "version": "3.7.0"
  }
 },
 "nbformat": 4,
 "nbformat_minor": 2
}
