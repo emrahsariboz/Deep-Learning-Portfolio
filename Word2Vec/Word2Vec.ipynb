{
 "cells": [
  {
   "cell_type": "markdown",
   "metadata": {},
   "source": [
    "# Loading Data"
   ]
  },
  {
   "cell_type": "code",
   "execution_count": 27,
   "metadata": {},
   "outputs": [
    {
     "name": "stdout",
     "output_type": "stream",
     "text": [
      " anarchism originated as a term of abuse first used against early working class radicals including the diggers of the english revolution and the sans \n"
     ]
    }
   ],
   "source": [
    "with open('D:/text8') as f:\n",
    "    text = f.read()\n",
    "\n",
    "print(text[:150])"
   ]
  },
  {
   "cell_type": "markdown",
   "metadata": {},
   "source": [
    "# Preprocessing"
   ]
  },
  {
   "cell_type": "code",
   "execution_count": 28,
   "metadata": {},
   "outputs": [
    {
     "name": "stdout",
     "output_type": "stream",
     "text": [
      "['anarchism', 'originated', 'as', 'a', 'term', 'of', 'abuse', 'first', 'used', 'against', 'early', 'working', 'class', 'radicals', 'including', 'the', 'diggers', 'of', 'the', 'english', 'revolution', 'and', 'the', 'sans', 'culottes', 'of', 'the', 'french', 'revolution', 'whilst']\n"
     ]
    }
   ],
   "source": [
    "import utils\n",
    "\n",
    "# Helper class written to remove punchiations etc.\n",
    "word = utils.preprocess(text)\n",
    "print(word[:30])"
   ]
  },
  {
   "cell_type": "code",
   "execution_count": 29,
   "metadata": {},
   "outputs": [
    {
     "name": "stdout",
     "output_type": "stream",
     "text": [
      "Total words in text: 16680599\n",
      "Total unique words in text 63641\n"
     ]
    }
   ],
   "source": [
    "print('Total words in text: {}'.format(len(word)))\n",
    "print('Total unique words in text {}'.format(len(set(word))))"
   ]
  },
  {
   "cell_type": "markdown",
   "metadata": {},
   "source": [
    "# Dictionaries"
   ]
  },
  {
   "cell_type": "code",
   "execution_count": 32,
   "metadata": {},
   "outputs": [
    {
     "name": "stdout",
     "output_type": "stream",
     "text": [
      "[5233, 3080, 11, 5, 194, 1, 3133, 45, 58, 155, 127, 741, 476, 10571, 133, 0, 27349, 1, 0, 102]\n"
     ]
    }
   ],
   "source": [
    "vocab_to_int, int_to_vocab = utils.create_lookup_tables(word)\n",
    "\n",
    "\n",
    "int_words =[vocab_to_int[w] for w in word]\n",
    "\n",
    "print(int_words[:20])\n"
   ]
  },
  {
   "cell_type": "code",
   "execution_count": 33,
   "metadata": {},
   "outputs": [],
   "source": [
    "from collections import Counter\n",
    "import random\n",
    "import numpy as np\n",
    "\n",
    "threshold = 1e-5\n",
    "word_counts = Counter(int_words)"
   ]
  },
  {
   "cell_type": "code",
   "execution_count": 53,
   "metadata": {},
   "outputs": [
    {
     "name": "stdout",
     "output_type": "stream",
     "text": [
      "63641\n"
     ]
    },
    {
     "data": {
      "text/plain": [
       "[(5233, 303),\n",
       " (3080, 572),\n",
       " (11, 131815),\n",
       " (5, 325873),\n",
       " (194, 7219),\n",
       " (1, 593677),\n",
       " (3133, 563),\n",
       " (45, 28810),\n",
       " (58, 22737),\n",
       " (155, 8432),\n",
       " (127, 10172),\n",
       " (741, 2271),\n",
       " (476, 3412),\n",
       " (10571, 116),\n",
       " (133, 9633),\n",
       " (0, 1061396),\n",
       " (27349, 25),\n",
       " (102, 11868),\n",
       " (854, 2029),\n",
       " (2, 416629)]"
      ]
     },
     "execution_count": 53,
     "metadata": {},
     "output_type": "execute_result"
    }
   ],
   "source": [
    "list_word_counts = list(word_counts.items())\n",
    "\n",
    "print(len(list_word_counts))\n",
    "\n",
    "list_word_counts[:20]"
   ]
  },
  {
   "cell_type": "code",
   "execution_count": 55,
   "metadata": {},
   "outputs": [
    {
     "name": "stdout",
     "output_type": "stream",
     "text": [
      "62745\n"
     ]
    }
   ],
   "source": [
    "for i in list_word_counts:\n",
    "    prob = 1 - (np.sqrt(np.divide(threshold, (i[1] / len(list_word_counts) ))))\n",
    "    if prob > 0.98:\n",
    "        list_word_counts.remove(i)\n",
    "    \n",
    "    \n",
    "\n",
    "print(len(list_word_counts))"
   ]
  },
  {
   "cell_type": "code",
   "execution_count": 68,
   "metadata": {},
   "outputs": [],
   "source": [
    "def get_target(words, idx, window_size):\n",
    "    rn = random.randint(1, window_size+1)\n",
    "    \n",
    "    if idx - rn > 0:\n",
    "        start = idx - rn\n",
    "    else:\n",
    "        start = 0\n",
    "    \n",
    "    stop = idx + rn\n",
    "    \n",
    "    target_words = words[start:idx] + words[idx+1:stop+1]\n",
    "    \n",
    "    return list(target_words)"
   ]
  },
  {
   "cell_type": "code",
   "execution_count": 69,
   "metadata": {},
   "outputs": [
    {
     "name": "stdout",
     "output_type": "stream",
     "text": [
      "Input:  [0, 1, 2, 3, 4, 5, 6, 7, 8, 9]\n",
      "Target:  [3, 4, 6, 7]\n"
     ]
    }
   ],
   "source": [
    "# test your code!\n",
    "\n",
    "# run this cell multiple times to check for random window selection\n",
    "int_text = [i for i in range(10)]\n",
    "print('Input: ', int_text)\n",
    "idx=5 # word index of interest\n",
    "\n",
    "target = get_target(int_text, idx=idx, window_size=5)\n",
    "print('Target: ', target)  # you should get some indices around the idx"
   ]
  },
  {
   "cell_type": "code",
   "execution_count": null,
   "metadata": {},
   "outputs": [],
   "source": []
  }
 ],
 "metadata": {
  "kernelspec": {
   "display_name": "Python 3",
   "language": "python",
   "name": "python3"
  },
  "language_info": {
   "codemirror_mode": {
    "name": "ipython",
    "version": 3
   },
   "file_extension": ".py",
   "mimetype": "text/x-python",
   "name": "python",
   "nbconvert_exporter": "python",
   "pygments_lexer": "ipython3",
   "version": "3.7.0"
  }
 },
 "nbformat": 4,
 "nbformat_minor": 2
}
